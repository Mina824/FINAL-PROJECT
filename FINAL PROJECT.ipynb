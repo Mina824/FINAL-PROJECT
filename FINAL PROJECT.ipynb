{
 "cells": [
  {
   "cell_type": "markdown",
   "id": "ad157171-5938-4872-95fd-73d0b905c31a",
   "metadata": {},
   "source": [
    "# Project 5¶\n",
    "## Minaya Chanmini Gunawardhana\n",
    "### Part 1 of coding\n",
    "#### 2024/10/01\n"
   ]
  },
  {
   "cell_type": "code",
   "execution_count": 6,
   "id": "26c60465-04ef-422d-882f-aac24bf52fd7",
   "metadata": {},
   "outputs": [],
   "source": [
    "import json #  supports basic data types\n",
    "import os # provides tools for interacting\n",
    "import tkinter as tk    #Tkinter module for UI\n",
    "from tkinter import messagebox, simpledialog #Ask for a string \n",
    "\n",
    "PHONEBOOK_FILE = 'phonebook.json'\n",
    "\n",
    "def load_phonebook():\n",
    "    if os.path.exists(PHONEBOOK_FILE):\n",
    "        with open(PHONEBOOK_FILE, 'r') as file: #Read json from a file\n",
    "            return json.load(file)\n",
    "    return {}\n",
    "\n",
    "def save_phonebook(phonebook):\n",
    "    with open(PHONEBOOK_FILE, 'w') as file: #Write json to a file\n",
    "        json.dump(phonebook, file, indent=4)\n",
    "\n",
    "class PhoneBookApp:\n",
    "    def __init__(self, root):\n",
    "        self.phonebook = load_phonebook()\n",
    "        self.root = root # Root parameter\n",
    "        self.root.title(\"My Phone Book\") # Title of the main window\n"
   ]
  },
  {
   "cell_type": "markdown",
   "id": "0c34b1c0-c55c-4563-8497-f7bc2bc0ae37",
   "metadata": {},
   "source": [
    "# project 5\n",
    "## Pathirage Shashika Lankani Perera\n",
    "### coding part2\n",
    "#### 2024/10/02"
   ]
  },
  {
   "cell_type": "markdown",
   "id": "6497fcd5-987b-4af2-b894-ca5afa2a254f",
   "metadata": {},
   "source": [
    "#### Process of buttons in the phonebook"
   ]
  },
  {
   "cell_type": "code",
   "execution_count": 9,
   "id": "9a1c87ce-00da-43da-9864-40ef090350cc",
   "metadata": {},
   "outputs": [
    {
     "ename": "NameError",
     "evalue": "name 'self' is not defined",
     "output_type": "error",
     "traceback": [
      "\u001b[1;31m---------------------------------------------------------------------------\u001b[0m",
      "\u001b[1;31mNameError\u001b[0m                                 Traceback (most recent call last)",
      "Cell \u001b[1;32mIn[9], line 1\u001b[0m\n\u001b[1;32m----> 1\u001b[0m \u001b[38;5;28mself\u001b[39m\u001b[38;5;241m.\u001b[39mframe \u001b[38;5;241m=\u001b[39m tk\u001b[38;5;241m.\u001b[39mFrame(\u001b[38;5;28mself\u001b[39m\u001b[38;5;241m.\u001b[39mroot) \u001b[38;5;66;03m# Buttons' framing\u001b[39;00m\n\u001b[0;32m      2\u001b[0m \u001b[38;5;28mself\u001b[39m\u001b[38;5;241m.\u001b[39mframe\u001b[38;5;241m.\u001b[39mpack(pady\u001b[38;5;241m=\u001b[39m\u001b[38;5;241m30\u001b[39m)\n\u001b[0;32m      5\u001b[0m \u001b[38;5;28mself\u001b[39m\u001b[38;5;241m.\u001b[39mbtn_enter \u001b[38;5;241m=\u001b[39m tk\u001b[38;5;241m.\u001b[39mButton(\u001b[38;5;28mself\u001b[39m\u001b[38;5;241m.\u001b[39mframe, text\u001b[38;5;241m=\u001b[39m\u001b[38;5;124m\"\u001b[39m\u001b[38;5;124mEnter New Entry\u001b[39m\u001b[38;5;124m\"\u001b[39m, command\u001b[38;5;241m=\u001b[39m\u001b[38;5;28mself\u001b[39m\u001b[38;5;241m.\u001b[39menter_entry) \u001b[38;5;66;03m# New Entry button\u001b[39;00m\n",
      "\u001b[1;31mNameError\u001b[0m: name 'self' is not defined"
     ]
    }
   ],
   "source": [
    "        self.frame = tk.Frame(self.root) # Buttons' framing\n",
    "        self.frame.pack(pady=30)\n",
    "\n",
    "        \n",
    "        self.btn_enter = tk.Button(self.frame, text=\"Enter New Entry\", command=self.enter_entry) # New Entry button\n",
    "        self.btn_enter.pack(side=tk.LEFT, padx=10)\n",
    "\n",
    "        \n",
    "        self.btn_delete = tk.Button(self.frame, text=\"Delete an existing Entry\", command=self.delete_entry) #Button for deleting\n",
    "        self.btn_delete.pack(side=tk.LEFT, padx=10)\n",
    "\n",
    "        \n",
    "        self.btn_change = tk.Button(self.frame, text=\"Change Phone Number\", command=self.change_phone_number) #Button for change number\n",
    "        self.btn_change.pack(side=tk.LEFT, padx=10)\n",
    "\n",
    "        \n",
    "        self.btn_display = tk.Button(self.frame, text=\"Display The Phone Book\", command=self.display_phonebook) #Displaying button\n",
    "        self.btn_display.pack(side=tk.LEFT, padx=10)\n",
    "\n",
    "\n",
    "        self.btn_exit = tk.Button(self.frame, text=\"Exit\", command=self.exit_program) # Exit button\n",
    "        self.btn_exit.pack(side=tk.LEFT, padx=10)\n",
    "\n",
    "        \n",
    "        self.text_area = tk.Text(self.root, width=60, height=20) #Text area's width and length \n",
    "        self.text_area.pack(pady=30)\n"
   ]
  },
  {
   "cell_type": "markdown",
   "id": "314685cb-5426-4b9a-b17d-97896d89d04d",
   "metadata": {},
   "source": [
    "# Project 5\n",
    "## Muthukuda Wijesuriya Arachchige Shasika Wijesuriya\n",
    "### Final part of coding\n",
    "#### 2024/10/01"
   ]
  },
  {
   "cell_type": "markdown",
   "id": "fe24d073-a76c-41a5-bb55-b0bb7b658be2",
   "metadata": {},
   "source": [
    "#### Following part help user to add a name and then phone number to the phonebook dictionary"
   ]
  },
  {
   "cell_type": "code",
   "execution_count": 15,
   "id": "627b5b2e-b34f-4b80-845b-e7958f7afd3f",
   "metadata": {},
   "outputs": [],
   "source": [
    "def enter_entry(self):\n",
    "        name = simpledialog.askstring(\"Input\", \"Enter new name:\")\n",
    "        if name:\n",
    "            phone_number = simpledialog.askstring(\"Input\", \"Enter phone number:\")\n",
    "            if phone_number:\n",
    "                self.phonebook[name] = phone_number\n",
    "                save_phonebook(self.phonebook)\n",
    "                messagebox.showinfo(\"Success\", f\"Added: {name} -> {phone_number}\")\n"
   ]
  },
  {
   "cell_type": "markdown",
   "id": "7aa7fbdb-0b20-4d4a-b255-b5067cee50c4",
   "metadata": {},
   "source": [
    "#### Checking if name that need to be deleted is exist and if then delete it while saving the update to notebook, if not return error"
   ]
  },
  {
   "cell_type": "code",
   "execution_count": 18,
   "id": "f682ae42-d60e-4eab-a658-65e9d43029ea",
   "metadata": {},
   "outputs": [],
   "source": [
    "def delete_entry(self):\n",
    "        name = simpledialog.askstring(\"Input\", \"Enter the name to delete:\")\n",
    "        if name in self.phonebook:\n",
    "            del self.phonebook[name]\n",
    "            save_phonebook(self.phonebook)\n",
    "            messagebox.showinfo(\"Success\", f\"Deleted: {name}\")\n",
    "        else:\n",
    "            messagebox.showerror(\"Error\", \"Entry not found.\")\n"
   ]
  },
  {
   "cell_type": "markdown",
   "id": "a5d4f380-bfb1-4cbc-afb0-20c0e983caf2",
   "metadata": {},
   "source": [
    "#### Allowing user to change a phone number in a exist contact and saves it to phonebook"
   ]
  },
  {
   "cell_type": "code",
   "execution_count": 21,
   "id": "6f2aa58d-acec-49fd-afea-db04762a4724",
   "metadata": {},
   "outputs": [],
   "source": [
    "def change_phone_number(self):\n",
    "        name = simpledialog.askstring(\"Input\", \"Enter the name to change the phone number:\") #string is for number input\n",
    "        if name in self.phonebook:\n",
    "            new_number = simpledialog.askstring(\"Input\", \"Enter the new phone number:\")\n",
    "            if new_number:\n",
    "                self.phonebook[name] = new_number\n",
    "                save_phonebook(self.phonebook)\n",
    "                messagebox.showinfo(\"Success\", f\"Updated: {name} -> {new_number}\")\n",
    "        else:\n",
    "            messagebox.showerror(\"Error\", \"Entry not found.\")"
   ]
  },
  {
   "cell_type": "markdown",
   "id": "ed3c8efa-100e-491f-9544-6858978f70be",
   "metadata": {},
   "source": [
    "#### Shows the entries after clearing previous texts and final output"
   ]
  },
  {
   "cell_type": "code",
   "execution_count": 25,
   "id": "b422b107-4f4c-4c14-8262-cfad90fdf1b5",
   "metadata": {},
   "outputs": [
    {
     "ename": "IndentationError",
     "evalue": "expected an indented block after 'if' statement on line 12 (2722172744.py, line 13)",
     "output_type": "error",
     "traceback": [
      "\u001b[1;36m  Cell \u001b[1;32mIn[25], line 13\u001b[1;36m\u001b[0m\n\u001b[1;33m    root = tk.Tk() #Main tkinter window initializer\u001b[0m\n\u001b[1;37m    ^\u001b[0m\n\u001b[1;31mIndentationError\u001b[0m\u001b[1;31m:\u001b[0m expected an indented block after 'if' statement on line 12\n"
     ]
    }
   ],
   "source": [
    "\n",
    "    def display_phonebook(self):\n",
    "        self.text_area.delete(1.0, tk.END)  # Clear the text area\n",
    "        if self.phonebook:\n",
    "            for name, number in self.phonebook.items():\n",
    "                self.text_area.insert(tk.END, f\"{name}: {number}\\n\")\n",
    "        else:\n",
    "            self.text_area.insert(tk.END, \"Phone book is empty.\")\n",
    "\n",
    "    def exit_program(self):\n",
    "        self.root.quit()\n",
    "\n",
    "if __name__ == \"__main__\":\n",
    "    root = tk.Tk() #Main tkinter window initializer\n",
    "    app = PhoneBookApp(root) #Instant phonebook class\n",
    "    root.mainloop() #tkinter event loop, waiting to interactions\n"
   ]
  },
  {
   "cell_type": "markdown",
   "id": "81b5e251-37f7-4c8a-b1bb-d8cc591be05f",
   "metadata": {},
   "source": [
    "# \" FINAL CODING \""
   ]
  },
  {
   "cell_type": "code",
   "execution_count": null,
   "id": "a7c83169-01f0-4979-966d-6449001f024f",
   "metadata": {},
   "outputs": [],
   "source": [
    "import json   #  supports basic data types\n",
    "import os   # provides tools for interacting\n",
    "import tkinter as tk   # Tkinter module for UI\n",
    "from tkinter import messagebox, simpledialog  #Ask for a string \n",
    "\n",
    "PHONEBOOK_FILE = 'phonebook.json'\n",
    "\n",
    "def load_phonebook():\n",
    "    if os.path.exists(PHONEBOOK_FILE):\n",
    "        with open(PHONEBOOK_FILE, 'r') as file: # Read json from a file\n",
    "            return json.load(file)\n",
    "    return {}\n",
    "\n",
    "def save_phonebook(phonebook):\n",
    "    with open(PHONEBOOK_FILE, 'w') as file:  # Write json to a file\n",
    "        json.dump(phonebook, file, indent=4)\n",
    "\n",
    "class PhoneBookApp:\n",
    "    def __init__(self, root):\n",
    "        self.phonebook = load_phonebook()\n",
    "        self.root = root # Root parameter\n",
    "        self.root.title(\"My Phone Book\")  # Title of the main window\n",
    "\n",
    "      \n",
    "        self.frame = tk.Frame(self.root) #Buttons' framing\n",
    "        self.frame.pack(pady=30)\n",
    "\n",
    "        \n",
    "        self.btn_enter = tk.Button(self.frame, text=\"Enter New Entry\", command=self.enter_entry) # New Entry button\n",
    "        self.btn_enter.pack(side=tk.LEFT, padx=10)\n",
    "\n",
    "       \n",
    "        self.btn_delete = tk.Button(self.frame, text=\"Delete an existing Entry\", command=self.delete_entry) #Button for deleting\n",
    "        self.btn_delete.pack(side=tk.LEFT, padx=10)\n",
    "\n",
    "    \n",
    "        self.btn_change = tk.Button(self.frame, text=\"Change Phone Number\", command=self.change_phone_number) #Button for change number\n",
    "        self.btn_change.pack(side=tk.LEFT, padx=10)\n",
    "\n",
    "        \n",
    "        self.btn_display = tk.Button(self.frame, text=\"Display The Phone Book\", command=self.display_phonebook) #Displaying button\n",
    "        self.btn_display.pack(side=tk.LEFT, padx=10)\n",
    "\n",
    "        \n",
    "        self.btn_exit = tk.Button(self.frame, text=\"Exit\", command=self.exit_program) # Exit button\n",
    "        self.btn_exit.pack(side=tk.LEFT, padx=10)\n",
    "\n",
    "        \n",
    "        self.text_area = tk.Text(self.root, width=60, height=20)  #Text area to enter the entries\n",
    "        self.text_area.pack(pady=30)\n",
    "\n",
    "    def enter_entry(self):\n",
    "        name = simpledialog.askstring(\"Input\", \"Enter new name:\")\n",
    "        if name:\n",
    "            phone_number = simpledialog.askstring(\"Input\", \"Enter phone number:\")\n",
    "            if phone_number:\n",
    "                self.phonebook[name] = phone_number\n",
    "                save_phonebook(self.phonebook)\n",
    "                messagebox.showinfo(\"Success\", f\"Added: {name} -> {phone_number}\")\n",
    "\n",
    "    def delete_entry(self):\n",
    "        name = simpledialog.askstring(\"Input\", \"Enter the name to delete:\")\n",
    "        if name in self.phonebook:\n",
    "            del self.phonebook[name]\n",
    "            save_phonebook(self.phonebook)\n",
    "            messagebox.showinfo(\"Success\", f\"Deleted: {name}\")\n",
    "        else:\n",
    "            messagebox.showerror(\"Error\", \"Entry not found.\")\n",
    "\n",
    "    def change_phone_number(self):\n",
    "        name = simpledialog.askstring(\"Input\", \"Enter the name to change the phone number:\") # String for number input\n",
    "        if name in self.phonebook:\n",
    "            new_number = simpledialog.askstring(\"Input\", \"Enter the new phone number:\")\n",
    "            if new_number:\n",
    "                self.phonebook[name] = new_number\n",
    "                save_phonebook(self.phonebook)\n",
    "                messagebox.showinfo(\"Success\", f\"Updated: {name} -> {new_number}\")\n",
    "        else:\n",
    "            messagebox.showerror(\"Error\", \"Entry not found.\")\n",
    "\n",
    "    def display_phonebook(self):\n",
    "        self.text_area.delete(1.0, tk.END)  # Clear the text area\n",
    "        if self.phonebook:\n",
    "            for name, number in self.phonebook.items():\n",
    "                self.text_area.insert(tk.END, f\"{name}: {number}\\n\")\n",
    "        else:\n",
    "            self.text_area.insert(tk.END, \"Phone book is empty.\")\n",
    "\n",
    "    def exit_program(self):\n",
    "        self.root.quit()\n",
    "\n",
    "if __name__ == \"__main__\":\n",
    "    root = tk.Tk()  #Main tkinter window initializer\n",
    "    app = PhoneBookApp(root) #Instant phonebook class\n",
    "    root.mainloop() #tkinter event loop, waiting to interactions\n"
   ]
  },
  {
   "cell_type": "markdown",
   "id": "970903d3-24aa-4a91-9b4f-1ecc2129bf1a",
   "metadata": {},
   "source": [
    "## Errors occured because codes are separated."
   ]
  }
 ],
 "metadata": {
  "kernelspec": {
   "display_name": "Python 3 (ipykernel)",
   "language": "python",
   "name": "python3"
  },
  "language_info": {
   "codemirror_mode": {
    "name": "ipython",
    "version": 3
   },
   "file_extension": ".py",
   "mimetype": "text/x-python",
   "name": "python",
   "nbconvert_exporter": "python",
   "pygments_lexer": "ipython3",
   "version": "3.12.4"
  }
 },
 "nbformat": 4,
 "nbformat_minor": 5
}
